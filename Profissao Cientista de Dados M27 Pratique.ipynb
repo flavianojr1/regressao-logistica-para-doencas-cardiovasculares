{
 "cells": [
  {
   "cell_type": "markdown",
   "metadata": {
    "id": "PobmBiSKLym_"
   },
   "source": [
    "# **MÓDULO 27 - Projeto de Doenças Cardiovasculares - Regressão Logística**\n"
   ]
  },
  {
   "cell_type": "markdown",
   "metadata": {
    "id": "dIJ_gU2nL6m5"
   },
   "source": [
    "Assim como na aula que trabalhamos com uma base de dados nova, com um contexto de modelo de propensão a compra de carros, para a atividade de vocês achei interessante trazer também novos desafios."
   ]
  },
  {
   "cell_type": "markdown",
   "metadata": {
    "id": "aa-GOAghMCvx"
   },
   "source": [
    "Nessa tarefa iremos construir um modelo que nos ajude a prever doenças cardiovasculares, a base contém dados reais.\n",
    "\n",
    "age - idade dos pacientes\n",
    "\n",
    "gender - genero (2 mulheres) (1 homens)\n",
    "\n",
    "height - altura dos pacientes\n",
    "\n",
    "weight - peso dos pacientes\n",
    "\n",
    "gluc - glicose\n",
    "\n",
    "smoke - fumante (1) não fumante (0)\n",
    "\n",
    "alco - consume alcool (1) não consome (0)\n",
    "\n",
    "active - realiza atividades fisicas (1) não realiza (0)\n",
    "\n",
    "cardio_disease - tem doença cardio (1) não tem (0) - Variável target\n"
   ]
  },
  {
   "cell_type": "markdown",
   "metadata": {
    "id": "cTmr2lSZM0sL"
   },
   "source": [
    "Seu objetivo é utilizar esses dados históricos dos pacientes e construir um bom modelo de regressão capaz de indicar se novos pacientes estão propensos a doenças cariovasculares ou não."
   ]
  },
  {
   "cell_type": "code",
   "execution_count": 2,
   "metadata": {
    "id": "TFFN0zwFNbwk"
   },
   "outputs": [],
   "source": [
    "import pandas as pd\n",
    "import matplotlib.pyplot as plt\n",
    "import seaborn as sns\n",
    "from sklearn.model_selection import train_test_split\n",
    "from sklearn.metrics import accuracy_score, classification_report\n",
    "from imblearn.over_sampling import SMOTE\n",
    "from sklearn.preprocessing import StandardScaler\n",
    "from sklearn.linear_model import LogisticRegression\n",
    "from sklearn.metrics import roc_curve, roc_auc_score, classification_report"
   ]
  },
  {
   "cell_type": "markdown",
   "metadata": {
    "id": "M61dablZM_2u"
   },
   "source": [
    "# 1) Comece carregando e tratando a base de dados.\n",
    "Assim como na aula essa nova base não passou por pré processamento nenhum então nessa etapa, carrega os dados, verifique os tipos de dados, verifique se temos dados faltantes e outliers.\n",
    "Quando necessário realize o tratamento.\n"
   ]
  },
  {
   "cell_type": "code",
   "execution_count": 3,
   "metadata": {
    "id": "MbWSSB26Lx-A"
   },
   "outputs": [
    {
     "name": "stdout",
     "output_type": "stream",
     "text": [
      "<class 'pandas.core.frame.DataFrame'>\n",
      "RangeIndex: 10000 entries, 0 to 9999\n",
      "Data columns (total 10 columns):\n",
      " #   Column          Non-Null Count  Dtype \n",
      "---  ------          --------------  ----- \n",
      " 0   age             10000 non-null  int64 \n",
      " 1   gender          10000 non-null  int64 \n",
      " 2   height          10000 non-null  int64 \n",
      " 3   weight          10000 non-null  object\n",
      " 4   cholesterol     10000 non-null  int64 \n",
      " 5   gluc            10000 non-null  int64 \n",
      " 6   smoke           10000 non-null  int64 \n",
      " 7   alco            10000 non-null  int64 \n",
      " 8   active          10000 non-null  int64 \n",
      " 9   cardio_disease  10000 non-null  int64 \n",
      "dtypes: int64(9), object(1)\n",
      "memory usage: 781.4+ KB\n"
     ]
    }
   ],
   "source": [
    "base = pd.read_csv(\"CARDIO_BASE.csv\", delimiter=';')\n",
    "base.info()"
   ]
  },
  {
   "cell_type": "markdown",
   "metadata": {},
   "source": [
    "## Tratando dados nulos e duplicados"
   ]
  },
  {
   "cell_type": "code",
   "execution_count": 4,
   "metadata": {
    "id": "2grTowkLcBOf"
   },
   "outputs": [
    {
     "name": "stdout",
     "output_type": "stream",
     "text": [
      "Dados nulos: \n",
      " age               0\n",
      "gender            0\n",
      "height            0\n",
      "weight            0\n",
      "cholesterol       0\n",
      "gluc              0\n",
      "smoke             0\n",
      "alco              0\n",
      "active            0\n",
      "cardio_disease    0\n",
      "dtype: int64\n"
     ]
    }
   ],
   "source": [
    "# Verificando se há dados nulos\n",
    "print('Dados nulos: \\n', base.isnull().sum())"
   ]
  },
  {
   "cell_type": "markdown",
   "metadata": {},
   "source": [
    "Verificação de dados nulos. Não encontramos nenhum."
   ]
  },
  {
   "cell_type": "code",
   "execution_count": 5,
   "metadata": {},
   "outputs": [
    {
     "name": "stdout",
     "output_type": "stream",
     "text": [
      "Dados duplicados:  360\n",
      "Dados duplicados após tratamento:  0\n"
     ]
    }
   ],
   "source": [
    "# Verificando se há dados duplicados\n",
    "print('Dados duplicados: ', base.duplicated().sum())\n",
    "\n",
    "base.drop_duplicates(inplace=True)\n",
    "print('Dados duplicados após tratamento: ', base.duplicated().sum())"
   ]
  },
  {
   "cell_type": "markdown",
   "metadata": {},
   "source": [
    "Encontramos 360 dados duplicados. Realizamos a exclusão para evitar viéses em nosso modelo."
   ]
  },
  {
   "cell_type": "markdown",
   "metadata": {},
   "source": [
    "## Entendendo a base de dados"
   ]
  },
  {
   "cell_type": "code",
   "execution_count": 6,
   "metadata": {},
   "outputs": [
    {
     "name": "stdout",
     "output_type": "stream",
     "text": [
      "<class 'pandas.core.frame.DataFrame'>\n",
      "Index: 9640 entries, 0 to 9999\n",
      "Data columns (total 10 columns):\n",
      " #   Column          Non-Null Count  Dtype \n",
      "---  ------          --------------  ----- \n",
      " 0   age             9640 non-null   int64 \n",
      " 1   gender          9640 non-null   int64 \n",
      " 2   height          9640 non-null   int64 \n",
      " 3   weight          9640 non-null   object\n",
      " 4   cholesterol     9640 non-null   int64 \n",
      " 5   gluc            9640 non-null   int64 \n",
      " 6   smoke           9640 non-null   int64 \n",
      " 7   alco            9640 non-null   int64 \n",
      " 8   active          9640 non-null   int64 \n",
      " 9   cardio_disease  9640 non-null   int64 \n",
      "dtypes: int64(9), object(1)\n",
      "memory usage: 828.4+ KB\n"
     ]
    }
   ],
   "source": [
    "# Visualizando os tipos de dados\n",
    "# Lembrando que homem = 1 ; mulher = 2 para 'gender'\n",
    "base.info()"
   ]
  },
  {
   "cell_type": "code",
   "execution_count": 7,
   "metadata": {},
   "outputs": [
    {
     "data": {
      "text/html": [
       "<div>\n",
       "<style scoped>\n",
       "    .dataframe tbody tr th:only-of-type {\n",
       "        vertical-align: middle;\n",
       "    }\n",
       "\n",
       "    .dataframe tbody tr th {\n",
       "        vertical-align: top;\n",
       "    }\n",
       "\n",
       "    .dataframe thead th {\n",
       "        text-align: right;\n",
       "    }\n",
       "</style>\n",
       "<table border=\"1\" class=\"dataframe\">\n",
       "  <thead>\n",
       "    <tr style=\"text-align: right;\">\n",
       "      <th></th>\n",
       "      <th>age</th>\n",
       "      <th>gender</th>\n",
       "      <th>height</th>\n",
       "      <th>weight</th>\n",
       "      <th>cholesterol</th>\n",
       "      <th>gluc</th>\n",
       "      <th>smoke</th>\n",
       "      <th>alco</th>\n",
       "      <th>active</th>\n",
       "      <th>cardio_disease</th>\n",
       "    </tr>\n",
       "  </thead>\n",
       "  <tbody>\n",
       "    <tr>\n",
       "      <th>0</th>\n",
       "      <td>50</td>\n",
       "      <td>2</td>\n",
       "      <td>168</td>\n",
       "      <td>62</td>\n",
       "      <td>1</td>\n",
       "      <td>1</td>\n",
       "      <td>0</td>\n",
       "      <td>0</td>\n",
       "      <td>1</td>\n",
       "      <td>0</td>\n",
       "    </tr>\n",
       "    <tr>\n",
       "      <th>1</th>\n",
       "      <td>55</td>\n",
       "      <td>1</td>\n",
       "      <td>156</td>\n",
       "      <td>85</td>\n",
       "      <td>3</td>\n",
       "      <td>1</td>\n",
       "      <td>0</td>\n",
       "      <td>0</td>\n",
       "      <td>1</td>\n",
       "      <td>1</td>\n",
       "    </tr>\n",
       "    <tr>\n",
       "      <th>2</th>\n",
       "      <td>52</td>\n",
       "      <td>1</td>\n",
       "      <td>165</td>\n",
       "      <td>64</td>\n",
       "      <td>3</td>\n",
       "      <td>1</td>\n",
       "      <td>0</td>\n",
       "      <td>0</td>\n",
       "      <td>0</td>\n",
       "      <td>1</td>\n",
       "    </tr>\n",
       "    <tr>\n",
       "      <th>3</th>\n",
       "      <td>48</td>\n",
       "      <td>2</td>\n",
       "      <td>169</td>\n",
       "      <td>82</td>\n",
       "      <td>1</td>\n",
       "      <td>1</td>\n",
       "      <td>0</td>\n",
       "      <td>0</td>\n",
       "      <td>1</td>\n",
       "      <td>1</td>\n",
       "    </tr>\n",
       "    <tr>\n",
       "      <th>4</th>\n",
       "      <td>48</td>\n",
       "      <td>1</td>\n",
       "      <td>156</td>\n",
       "      <td>56</td>\n",
       "      <td>1</td>\n",
       "      <td>1</td>\n",
       "      <td>0</td>\n",
       "      <td>0</td>\n",
       "      <td>0</td>\n",
       "      <td>0</td>\n",
       "    </tr>\n",
       "  </tbody>\n",
       "</table>\n",
       "</div>"
      ],
      "text/plain": [
       "   age  gender  height weight  cholesterol  gluc  smoke  alco  active  \\\n",
       "0   50       2     168     62            1     1      0     0       1   \n",
       "1   55       1     156     85            3     1      0     0       1   \n",
       "2   52       1     165     64            3     1      0     0       0   \n",
       "3   48       2     169     82            1     1      0     0       1   \n",
       "4   48       1     156     56            1     1      0     0       0   \n",
       "\n",
       "   cardio_disease  \n",
       "0               0  \n",
       "1               1  \n",
       "2               1  \n",
       "3               1  \n",
       "4               0  "
      ]
     },
     "execution_count": 7,
     "metadata": {},
     "output_type": "execute_result"
    }
   ],
   "source": [
    "# Visualizando exemplos de dados\n",
    "base.head()"
   ]
  },
  {
   "cell_type": "code",
   "execution_count": 8,
   "metadata": {},
   "outputs": [
    {
     "data": {
      "text/html": [
       "<div>\n",
       "<style scoped>\n",
       "    .dataframe tbody tr th:only-of-type {\n",
       "        vertical-align: middle;\n",
       "    }\n",
       "\n",
       "    .dataframe tbody tr th {\n",
       "        vertical-align: top;\n",
       "    }\n",
       "\n",
       "    .dataframe thead th {\n",
       "        text-align: right;\n",
       "    }\n",
       "</style>\n",
       "<table border=\"1\" class=\"dataframe\">\n",
       "  <thead>\n",
       "    <tr style=\"text-align: right;\">\n",
       "      <th></th>\n",
       "      <th>age</th>\n",
       "      <th>gender</th>\n",
       "      <th>height</th>\n",
       "      <th>cholesterol</th>\n",
       "      <th>gluc</th>\n",
       "      <th>smoke</th>\n",
       "      <th>alco</th>\n",
       "      <th>active</th>\n",
       "      <th>cardio_disease</th>\n",
       "    </tr>\n",
       "  </thead>\n",
       "  <tbody>\n",
       "    <tr>\n",
       "      <th>count</th>\n",
       "      <td>9640.000000</td>\n",
       "      <td>9640.000000</td>\n",
       "      <td>9640.000000</td>\n",
       "      <td>9640.000000</td>\n",
       "      <td>9640.000000</td>\n",
       "      <td>9640.000000</td>\n",
       "      <td>9640.000000</td>\n",
       "      <td>9640.000000</td>\n",
       "      <td>9640.000000</td>\n",
       "    </tr>\n",
       "    <tr>\n",
       "      <th>mean</th>\n",
       "      <td>53.297718</td>\n",
       "      <td>1.352075</td>\n",
       "      <td>164.319502</td>\n",
       "      <td>1.376660</td>\n",
       "      <td>1.229046</td>\n",
       "      <td>0.092116</td>\n",
       "      <td>0.055705</td>\n",
       "      <td>0.792531</td>\n",
       "      <td>0.508299</td>\n",
       "    </tr>\n",
       "    <tr>\n",
       "      <th>std</th>\n",
       "      <td>6.817341</td>\n",
       "      <td>0.477642</td>\n",
       "      <td>8.272977</td>\n",
       "      <td>0.685037</td>\n",
       "      <td>0.572412</td>\n",
       "      <td>0.289205</td>\n",
       "      <td>0.229364</td>\n",
       "      <td>0.405515</td>\n",
       "      <td>0.499957</td>\n",
       "    </tr>\n",
       "    <tr>\n",
       "      <th>min</th>\n",
       "      <td>30.000000</td>\n",
       "      <td>1.000000</td>\n",
       "      <td>70.000000</td>\n",
       "      <td>1.000000</td>\n",
       "      <td>1.000000</td>\n",
       "      <td>0.000000</td>\n",
       "      <td>0.000000</td>\n",
       "      <td>0.000000</td>\n",
       "      <td>0.000000</td>\n",
       "    </tr>\n",
       "    <tr>\n",
       "      <th>25%</th>\n",
       "      <td>48.000000</td>\n",
       "      <td>1.000000</td>\n",
       "      <td>159.000000</td>\n",
       "      <td>1.000000</td>\n",
       "      <td>1.000000</td>\n",
       "      <td>0.000000</td>\n",
       "      <td>0.000000</td>\n",
       "      <td>1.000000</td>\n",
       "      <td>0.000000</td>\n",
       "    </tr>\n",
       "    <tr>\n",
       "      <th>50%</th>\n",
       "      <td>54.000000</td>\n",
       "      <td>1.000000</td>\n",
       "      <td>165.000000</td>\n",
       "      <td>1.000000</td>\n",
       "      <td>1.000000</td>\n",
       "      <td>0.000000</td>\n",
       "      <td>0.000000</td>\n",
       "      <td>1.000000</td>\n",
       "      <td>1.000000</td>\n",
       "    </tr>\n",
       "    <tr>\n",
       "      <th>75%</th>\n",
       "      <td>58.000000</td>\n",
       "      <td>2.000000</td>\n",
       "      <td>170.000000</td>\n",
       "      <td>2.000000</td>\n",
       "      <td>1.000000</td>\n",
       "      <td>0.000000</td>\n",
       "      <td>0.000000</td>\n",
       "      <td>1.000000</td>\n",
       "      <td>1.000000</td>\n",
       "    </tr>\n",
       "    <tr>\n",
       "      <th>max</th>\n",
       "      <td>65.000000</td>\n",
       "      <td>2.000000</td>\n",
       "      <td>250.000000</td>\n",
       "      <td>3.000000</td>\n",
       "      <td>3.000000</td>\n",
       "      <td>1.000000</td>\n",
       "      <td>1.000000</td>\n",
       "      <td>1.000000</td>\n",
       "      <td>1.000000</td>\n",
       "    </tr>\n",
       "  </tbody>\n",
       "</table>\n",
       "</div>"
      ],
      "text/plain": [
       "               age       gender       height  cholesterol         gluc  \\\n",
       "count  9640.000000  9640.000000  9640.000000  9640.000000  9640.000000   \n",
       "mean     53.297718     1.352075   164.319502     1.376660     1.229046   \n",
       "std       6.817341     0.477642     8.272977     0.685037     0.572412   \n",
       "min      30.000000     1.000000    70.000000     1.000000     1.000000   \n",
       "25%      48.000000     1.000000   159.000000     1.000000     1.000000   \n",
       "50%      54.000000     1.000000   165.000000     1.000000     1.000000   \n",
       "75%      58.000000     2.000000   170.000000     2.000000     1.000000   \n",
       "max      65.000000     2.000000   250.000000     3.000000     3.000000   \n",
       "\n",
       "             smoke         alco       active  cardio_disease  \n",
       "count  9640.000000  9640.000000  9640.000000     9640.000000  \n",
       "mean      0.092116     0.055705     0.792531        0.508299  \n",
       "std       0.289205     0.229364     0.405515        0.499957  \n",
       "min       0.000000     0.000000     0.000000        0.000000  \n",
       "25%       0.000000     0.000000     1.000000        0.000000  \n",
       "50%       0.000000     0.000000     1.000000        1.000000  \n",
       "75%       0.000000     0.000000     1.000000        1.000000  \n",
       "max       1.000000     1.000000     1.000000        1.000000  "
      ]
     },
     "execution_count": 8,
     "metadata": {},
     "output_type": "execute_result"
    }
   ],
   "source": [
    "# Visualizando as métricas para possíveis outliers facilmente visíveis\n",
    "base.describe()"
   ]
  },
  {
   "cell_type": "markdown",
   "metadata": {},
   "source": [
    "Podemos notar que o campo `weight` não está como tipo `int`. E também é possível observar que temos alguém com 250 centímetros de altura. Iremos analisar posteriormente no gráfico de boxplot."
   ]
  },
  {
   "cell_type": "code",
   "execution_count": 9,
   "metadata": {},
   "outputs": [
    {
     "name": "stdout",
     "output_type": "stream",
     "text": [
      "<class 'pandas.core.frame.DataFrame'>\n",
      "Index: 9640 entries, 0 to 9999\n",
      "Data columns (total 10 columns):\n",
      " #   Column          Non-Null Count  Dtype  \n",
      "---  ------          --------------  -----  \n",
      " 0   age             9640 non-null   int64  \n",
      " 1   gender          9640 non-null   int64  \n",
      " 2   height          9640 non-null   int64  \n",
      " 3   weight          9640 non-null   float64\n",
      " 4   cholesterol     9640 non-null   int64  \n",
      " 5   gluc            9640 non-null   int64  \n",
      " 6   smoke           9640 non-null   int64  \n",
      " 7   alco            9640 non-null   int64  \n",
      " 8   active          9640 non-null   int64  \n",
      " 9   cardio_disease  9640 non-null   int64  \n",
      "dtypes: float64(1), int64(9)\n",
      "memory usage: 828.4 KB\n"
     ]
    }
   ],
   "source": [
    "# Trocando ',' por '.' para transformar string em floats\n",
    "base['weight'] = base['weight'].str.replace(',', '.')\n",
    "base['weight'] = base['weight'].astype(float)\n",
    "\n",
    "# Conferindo o resultado\n",
    "base.info()"
   ]
  },
  {
   "cell_type": "code",
   "execution_count": 10,
   "metadata": {},
   "outputs": [
    {
     "data": {
      "image/png": "[encoded data removed]",
      "text/plain": [
       "<Figure size 1200x600 with 3 Axes>"
      ]
     },
     "metadata": {},
     "output_type": "display_data"
    }
   ],
   "source": [
    "# Plotando o gráfico da altura\n",
    "fig, axes = plt.subplots(1, 3, figsize=(12, 6)) # 1 linha, 3 colunas\n",
    "\n",
    "# Primeiro gráfico\n",
    "axes[0].boxplot(base['height'])\n",
    "axes[0].set_title('Boxplot de Altura')\n",
    "axes[0].set_ylabel('Altura em centímetros')\n",
    "axes[0].set_xticks([])\n",
    "axes[0].grid(axis='y', linestyle='--')\n",
    "\n",
    "# Segundo gráfico\n",
    "axes[1].set_title('Boxplot de Idade')\n",
    "axes[1].boxplot(base['age'])\n",
    "axes[1].set_ylabel('Idade em anos')\n",
    "axes[1].set_xticks([])\n",
    "axes[1].grid(axis='y', linestyle='--')\n",
    "\n",
    "# Terceiro gráfico\n",
    "axes[2].set_title('Boxplot de Peso')\n",
    "axes[2].boxplot(base['weight'])\n",
    "axes[2].set_ylabel('Peso em Quilogramas')\n",
    "axes[2].set_xticks([])\n",
    "axes[2].grid(axis='y', linestyle='--')\n",
    "\n",
    "# Mostra os gráficos\n",
    "plt.tight_layout()\n",
    "plt.show()"
   ]
  },
  {
   "cell_type": "markdown",
   "metadata": {},
   "source": [
    "Traçamos aqui três boxplots para `height`, `age` e `weight`. Podemos observar que não há crianças na base de dados. 250 centímetros de altura é improvável, como também valores abaixo de 125 centímetros (desconsiderando anomalias). Além disso, temos pessoas muito leves, como abaixo do _quartil inferior_ do gráfico. Neste caso, podemos filtrar alguns dados para ser mais acertivo.  \n",
    "Não vamos desconsiderar pessoas de 200Kg, pois elas existem, e como se trata de uma base de dados para doenças cardiovasculares, acho interessante mantê-la na análise."
   ]
  },
  {
   "cell_type": "code",
   "execution_count": null,
   "metadata": {},
   "outputs": [
    {
     "data": {
      "text/html": [
       "<div>\n",
       "<style scoped>\n",
       "    .dataframe tbody tr th:only-of-type {\n",
       "        vertical-align: middle;\n",
       "    }\n",
       "\n",
       "    .dataframe tbody tr th {\n",
       "        vertical-align: top;\n",
       "    }\n",
       "\n",
       "    .dataframe thead th {\n",
       "        text-align: right;\n",
       "    }\n",
       "</style>\n",
       "<table border=\"1\" class=\"dataframe\">\n",
       "  <thead>\n",
       "    <tr style=\"text-align: right;\">\n",
       "      <th></th>\n",
       "      <th>age</th>\n",
       "      <th>gender</th>\n",
       "      <th>height</th>\n",
       "      <th>weight</th>\n",
       "      <th>cholesterol</th>\n",
       "      <th>gluc</th>\n",
       "      <th>smoke</th>\n",
       "      <th>alco</th>\n",
       "      <th>active</th>\n",
       "      <th>cardio_disease</th>\n",
       "    </tr>\n",
       "  </thead>\n",
       "  <tbody>\n",
       "    <tr>\n",
       "      <th>count</th>\n",
       "      <td>9617.000000</td>\n",
       "      <td>9617.000000</td>\n",
       "      <td>9617.000000</td>\n",
       "      <td>9617.000000</td>\n",
       "      <td>9617.000000</td>\n",
       "      <td>9617.000000</td>\n",
       "      <td>9617.000000</td>\n",
       "      <td>9617.000000</td>\n",
       "      <td>9617.000000</td>\n",
       "      <td>9617.000000</td>\n",
       "    </tr>\n",
       "    <tr>\n",
       "      <th>mean</th>\n",
       "      <td>53.304773</td>\n",
       "      <td>1.351877</td>\n",
       "      <td>164.411875</td>\n",
       "      <td>74.541655</td>\n",
       "      <td>1.377041</td>\n",
       "      <td>1.229489</td>\n",
       "      <td>0.092129</td>\n",
       "      <td>0.055839</td>\n",
       "      <td>0.792243</td>\n",
       "      <td>0.508683</td>\n",
       "    </tr>\n",
       "    <tr>\n",
       "      <th>std</th>\n",
       "      <td>6.812971</td>\n",
       "      <td>0.477581</td>\n",
       "      <td>7.906244</td>\n",
       "      <td>14.644821</td>\n",
       "      <td>0.685363</td>\n",
       "      <td>0.572937</td>\n",
       "      <td>0.289222</td>\n",
       "      <td>0.229622</td>\n",
       "      <td>0.405723</td>\n",
       "      <td>0.499951</td>\n",
       "    </tr>\n",
       "    <tr>\n",
       "      <th>min</th>\n",
       "      <td>30.000000</td>\n",
       "      <td>1.000000</td>\n",
       "      <td>140.000000</td>\n",
       "      <td>40.000000</td>\n",
       "      <td>1.000000</td>\n",
       "      <td>1.000000</td>\n",
       "      <td>0.000000</td>\n",
       "      <td>0.000000</td>\n",
       "      <td>0.000000</td>\n",
       "      <td>0.000000</td>\n",
       "    </tr>\n",
       "    <tr>\n",
       "      <th>25%</th>\n",
       "      <td>48.000000</td>\n",
       "      <td>1.000000</td>\n",
       "      <td>159.000000</td>\n",
       "      <td>65.000000</td>\n",
       "      <td>1.000000</td>\n",
       "      <td>1.000000</td>\n",
       "      <td>0.000000</td>\n",
       "      <td>0.000000</td>\n",
       "      <td>1.000000</td>\n",
       "      <td>0.000000</td>\n",
       "    </tr>\n",
       "    <tr>\n",
       "      <th>50%</th>\n",
       "      <td>54.000000</td>\n",
       "      <td>1.000000</td>\n",
       "      <td>165.000000</td>\n",
       "      <td>72.000000</td>\n",
       "      <td>1.000000</td>\n",
       "      <td>1.000000</td>\n",
       "      <td>0.000000</td>\n",
       "      <td>0.000000</td>\n",
       "      <td>1.000000</td>\n",
       "      <td>1.000000</td>\n",
       "    </tr>\n",
       "    <tr>\n",
       "      <th>75%</th>\n",
       "      <td>58.000000</td>\n",
       "      <td>2.000000</td>\n",
       "      <td>170.000000</td>\n",
       "      <td>82.000000</td>\n",
       "      <td>2.000000</td>\n",
       "      <td>1.000000</td>\n",
       "      <td>0.000000</td>\n",
       "      <td>0.000000</td>\n",
       "      <td>1.000000</td>\n",
       "      <td>1.000000</td>\n",
       "    </tr>\n",
       "    <tr>\n",
       "      <th>max</th>\n",
       "      <td>65.000000</td>\n",
       "      <td>2.000000</td>\n",
       "      <td>198.000000</td>\n",
       "      <td>200.000000</td>\n",
       "      <td>3.000000</td>\n",
       "      <td>3.000000</td>\n",
       "      <td>1.000000</td>\n",
       "      <td>1.000000</td>\n",
       "      <td>1.000000</td>\n",
       "      <td>1.000000</td>\n",
       "    </tr>\n",
       "  </tbody>\n",
       "</table>\n",
       "</div>"
      ],
      "text/plain": [
       "               age       gender       height       weight  cholesterol  \\\n",
       "count  9617.000000  9617.000000  9617.000000  9617.000000  9617.000000   \n",
       "mean     53.304773     1.351877   164.411875    74.541655     1.377041   \n",
       "std       6.812971     0.477581     7.906244    14.644821     0.685363   \n",
       "min      30.000000     1.000000   140.000000    40.000000     1.000000   \n",
       "25%      48.000000     1.000000   159.000000    65.000000     1.000000   \n",
       "50%      54.000000     1.000000   165.000000    72.000000     1.000000   \n",
       "75%      58.000000     2.000000   170.000000    82.000000     2.000000   \n",
       "max      65.000000     2.000000   198.000000   200.000000     3.000000   \n",
       "\n",
       "              gluc        smoke         alco       active  cardio_disease  \n",
       "count  9617.000000  9617.000000  9617.000000  9617.000000     9617.000000  \n",
       "mean      1.229489     0.092129     0.055839     0.792243        0.508683  \n",
       "std       0.572937     0.289222     0.229622     0.405723        0.499951  \n",
       "min       1.000000     0.000000     0.000000     0.000000        0.000000  \n",
       "25%       1.000000     0.000000     0.000000     1.000000        0.000000  \n",
       "50%       1.000000     0.000000     0.000000     1.000000        1.000000  \n",
       "75%       1.000000     0.000000     0.000000     1.000000        1.000000  \n",
       "max       3.000000     1.000000     1.000000     1.000000        1.000000  "
      ]
     },
     "execution_count": 11,
     "metadata": {},
     "output_type": "execute_result"
    }
   ],
   "source": [
    "filtro_altura = (base['height'] >= 140) & (base['height'] <= 200)\n",
    "base_tratada = base[filtro_altura]\n",
    "\n",
    "# Calculando os quartis e os intervalos\n",
    "Q1 = base_tratada['weight'].quantile(0.25)\n",
    "Q3 = base_tratada['weight'].quantile(0.75)\n",
    "IQR = Q3 - Q1\n",
    "\n",
    "# Definindo o limite inferior\n",
    "limite_inferior = Q1 - 1.5 * IQR\n",
    "\n",
    "# Filtrando apenas os valores acima do limite inferior\n",
    "filtro_iqr_inferior = base_tratada['weight'] >= limite_inferior\n",
    "base_tratada = base_tratada[filtro_iqr_inferior]\n",
    "\n",
    "# Atualizando a base sendo utilizada\n",
    "base = base_tratada.copy()\n",
    "base.describe()"
   ]
  },
  {
   "cell_type": "markdown",
   "metadata": {
    "id": "mxWjbX6bN4WC"
   },
   "source": [
    "# 2) Agora é hora de explorar os dados com uma análise bem completa.\n",
    "Plote pelo menos 3 gráficos analisando o comportamento da variável cardio com outras variaveis da sua preferência (análise bivariada). Não se esqueça de trazer insights acerca do analisado.\n"
   ]
  },
  {
   "cell_type": "code",
   "execution_count": null,
   "metadata": {
    "id": "_Wt2QFAscFfi"
   },
   "outputs": [
    {
     "data": {
      "image/png": "[encoded data removed]",
      "text/plain": [
       "<Figure size 1200x400 with 3 Axes>"
      ]
     },
     "metadata": {},
     "output_type": "display_data"
    }
   ],
   "source": [
    "# Filtrando pessoas que tem doenças cardiovasculares\n",
    "base_cardio = base[base['cardio_disease'] == 1]\n",
    "\n",
    "# Agrupando para análise bivariada\n",
    "cardio_por_idade = base_cardio.groupby('age')['cardio_disease'].count().reset_index(name='qtd')\n",
    "cardio_por_peso = base_cardio.groupby('weight')['cardio_disease'].count().reset_index(name='qtd')\n",
    "cardio_por_cholesterol = base.groupby('cholesterol')['cardio_disease'].value_counts().unstack()\n",
    "\n",
    "# Criação de subplots para 3 gráficos em linha\n",
    "fig, axes = plt.subplots(1, 3, figsize=(12, 4))\n",
    "\n",
    "# Gráfico 1\n",
    "axes[0].bar(cardio_por_idade['age'], cardio_por_idade['qtd'])\n",
    "axes[0].set_ylabel('Contagem')\n",
    "axes[0].set_xlabel('Idade em Anos')\n",
    "axes[0].set_title('Contagem de Cardio Diseases por Idade')\n",
    "\n",
    "# Gráfico 2\n",
    "axes[1].hist(cardio_por_peso['weight'], bins=15)\n",
    "axes[1].set_ylabel('Frequência (15 em 15)')\n",
    "axes[1].set_xlabel('Peso em Kg')\n",
    "axes[1].set_title('Histograma de Cardio Diseases por Peso')\n",
    "\n",
    "# Gráfico 3\n",
    "cardio_por_cholesterol.plot(kind='bar', stacked=True, ax=axes[2])\n",
    "axes[2].set_title('Cardio Diseases por Cholesterol')\n",
    "axes[2].set_ylabel('Contagem')\n",
    "axes[2].set_xlabel('Nível de Colesterol')\n",
    "axes[2].legend(['No Cardio Disease', 'Cardio Disease'])\n",
    "axes[2].set_xticklabels(['Normal', 'Alto', 'Muito Alto'], rotation=0)\n",
    "\n",
    "# Ajustando os espaçamentos e exibindo os gráficos\n",
    "plt.tight_layout()\n",
    "plt.show()"
   ]
  },
  {
   "cell_type": "markdown",
   "metadata": {},
   "source": [
    "- **Gráfico 1 - Contagem de Cardio Diseases por Idade:** A partir dos 50 anos de idade, a contagem de doenças cardiovasculares sobe significantemente, mostrando uma correlação para com idade e doenças cardiovasculares.\n",
    "- **Gráfico 2 - Histograma de Cardio Diseases por Peso:** A maioria da spessoas se concentra entre 60 e 120kg apesar de termos dados de pessoas com maior peso. Isso demonstra que pode ter correlação, mas não tão positiva.\n",
    "- **Gráfico 3 - Cardio Diseases por Cholesterol:** Para o colesterol de nível 1 (Normal), temos a grande maioria de pessoas com doenças cardiovasculares, não isentando o nível normal de não ter doenças do coração. A porcentagem de quem tem doenças cardiovasculares entre colesterol Alto e Muito Alto são maiores, indicando correlação positiva."
   ]
  },
  {
   "cell_type": "markdown",
   "metadata": {
    "id": "q3JQx0UtO6Bh"
   },
   "source": [
    "# 3) Nessa etapa você deve trazer a matriz de correlação e apontar insights acerca das variáveis com um relacionamento mais forte entre si.\n",
    "\n"
   ]
  },
  {
   "cell_type": "code",
   "execution_count": 13,
   "metadata": {
    "id": "C9DhcRThcGvZ"
   },
   "outputs": [],
   "source": [
    "# seu código aqui"
   ]
  },
  {
   "cell_type": "markdown",
   "metadata": {
    "id": "2gXd-NZrP0M8"
   },
   "source": [
    "# 4) Essa é a sua última etapa pré modelo. Você deve:\n",
    "\n",
    "A) Separar a base em treino e teste.\n",
    "\n",
    "B) Você considera que essa base precisa que os dados sejam padronizados? Se sim, porque? Se acredita que devem, então realize essa etapa.\n",
    "\n",
    "C) Verifique se os dados estão balanceados, se não, faça o balanceamento.\n",
    "\n",
    "\n",
    "D) Visualize as bases de treino, teste (X E Y) e verifique se está tudo adequado."
   ]
  },
  {
   "cell_type": "code",
   "execution_count": 14,
   "metadata": {
    "id": "O3FgZPf5cI9W"
   },
   "outputs": [],
   "source": [
    "# seu código aqui"
   ]
  },
  {
   "cell_type": "markdown",
   "metadata": {
    "id": "tkZP0RS7Q0lG"
   },
   "source": [
    "# 5) Realize a etapa de treinamento do modelo:\n",
    "\n",
    "A) Faça o treinamento do modelo.\n",
    "\n",
    "B) Traga o intercept e os coeficientes.\n",
    "\n",
    "c) Avalie as métricas do modelo treinado\n",
    "\n",
    "D) Justifique se te parece que o modelo tem feito boas previsões ou não."
   ]
  },
  {
   "cell_type": "code",
   "execution_count": 15,
   "metadata": {
    "id": "gGFt320QcKqL"
   },
   "outputs": [],
   "source": [
    "# seu código aqui"
   ]
  },
  {
   "cell_type": "markdown",
   "metadata": {
    "id": "bXzPKyRqR8B8"
   },
   "source": [
    "# 6) Teste seu modelo!\n",
    "\n",
    "A) Aplique o modelo aos dados de teste.\n",
    "\n",
    "B) Avalie as métricas do modelo treinado\n",
    "\n",
    "C) Plote o gráfico da curva AUC-ROC e explique o que consegue analisar através do gráfico."
   ]
  },
  {
   "cell_type": "code",
   "execution_count": 16,
   "metadata": {
    "id": "9bIs8TRDcMGm"
   },
   "outputs": [],
   "source": [
    "# seu código aqui"
   ]
  },
  {
   "cell_type": "markdown",
   "metadata": {
    "id": "eH2i4tegSpjt"
   },
   "source": [
    "# 7) Explique:\n",
    "\n",
    "A) Explique com suas palavras regressão logistica.\n",
    "\n",
    "B) Explique porque a regressão logistica é um modelo de classificação.\n",
    "\n",
    "C) Explique quais pontos em comum a regressão logistica tem da regressão linear.\n",
    "\n"
   ]
  },
  {
   "cell_type": "code",
   "execution_count": 17,
   "metadata": {
    "id": "d34ugkIRSpN0"
   },
   "outputs": [],
   "source": [
    "# seu código aqui"
   ]
  }
 ],
 "metadata": {
  "colab": {
   "provenance": []
  },
  "kernelspec": {
   "display_name": "base",
   "language": "python",
   "name": "python3"
  },
  "language_info": {
   "codemirror_mode": {
    "name": "ipython",
    "version": 3
   },
   "file_extension": ".py",
   "mimetype": "text/x-python",
   "name": "python",
   "nbconvert_exporter": "python",
   "pygments_lexer": "ipython3",
   "version": "3.12.7"
  }
 },
 "nbformat": 4,
 "nbformat_minor": 0
}
